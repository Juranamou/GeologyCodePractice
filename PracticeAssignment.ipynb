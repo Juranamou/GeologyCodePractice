{
 "cells": [
  {
   "cell_type": "code",
   "execution_count": 5,
   "metadata": {},
   "outputs": [
    {
     "name": "stdout",
     "output_type": "stream",
     "text": [
      "John Economou\n"
     ]
    }
   ],
   "source": [
    "# Name Practice\n",
    "\n",
    "print('John Economou')\n",
    "\n",
    "f = open(\"Name.txt\",\"w+\")\n",
    "f.write(\"John Economou\")\n",
    "f.close()"
   ]
  },
  {
   "cell_type": "code",
   "execution_count": 70,
   "metadata": {},
   "outputs": [
    {
     "name": "stdout",
     "output_type": "stream",
     "text": [
      "[0.22689916 0.23613646 0.59091934 0.20492874 0.11083962 0.45317778\n",
      " 0.13837305 0.84939286 0.18656041 0.57886342]\n",
      "1.2112441949032919e-27\n",
      "0.35760908282381887\n",
      "0.2384662181891767\n"
     ]
    }
   ],
   "source": [
    "#Different ways of averaging numbers\n",
    "\n",
    "# Geometric Mean\n",
    "\n",
    "# Give 10 random numbers\n",
    "DataSet = random.rand(10)\n",
    "print(DataSet)\n",
    "\n",
    "# Geometric mean using my own equation..\n",
    "# prod multiplies all values in an array, size gives the dimension of the array\n",
    "# in this case that would be 4. \n",
    "GeoMean = sqrt(prod(DataSet))**(size(DataSet))\n",
    "print(GeoMean)\n",
    "\n",
    "# Arithmetic Mean using mean\n",
    "AriMean=mean(DataSet)\n",
    "print(AriMean)\n",
    "\n",
    "# Harmonic Mean using scippy\n",
    "from scipy.stats import hmean\n",
    "HarMean=hmean(DataSet)\n",
    "print(HarMean)\n"
   ]
  },
  {
   "cell_type": "code",
   "execution_count": null,
   "metadata": {},
   "outputs": [],
   "source": []
  }
 ],
 "metadata": {
  "kernelspec": {
   "display_name": "Python 3",
   "language": "python",
   "name": "python3"
  },
  "language_info": {
   "codemirror_mode": {
    "name": "ipython",
    "version": 3
   },
   "file_extension": ".py",
   "mimetype": "text/x-python",
   "name": "python",
   "nbconvert_exporter": "python",
   "pygments_lexer": "ipython3",
   "version": "3.8.5"
  }
 },
 "nbformat": 4,
 "nbformat_minor": 4
}
