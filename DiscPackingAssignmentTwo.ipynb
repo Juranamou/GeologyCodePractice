{
 "cells": [
  {
   "cell_type": "code",
   "execution_count": 54,
   "metadata": {},
   "outputs": [
    {
     "name": "stdout",
     "output_type": "stream",
     "text": [
      "[0.16578005] [0.62249791]\n",
      "[[0.16578005 0.52249791]\n",
      " [0.19230036 0.52249791]\n",
      " [0.21773803 0.53303454]\n",
      " [0.23649072 0.55178724]\n",
      " [0.25524342 0.57053993]\n",
      " [0.26578005 0.5959776 ]\n",
      " [0.26578005 0.62249791]\n",
      " [0.26578005 0.64901822]\n",
      " [0.25524342 0.6744559 ]\n",
      " [0.23649072 0.69320859]\n",
      " [0.21773803 0.71196128]\n",
      " [0.19230036 0.72249791]\n",
      " [0.16578005 0.72249791]\n",
      " [0.13925974 0.72249791]\n",
      " [0.11382206 0.71196128]\n",
      " [0.09506937 0.69320859]\n",
      " [0.07631668 0.6744559 ]\n",
      " [0.06578005 0.64901822]\n",
      " [0.06578005 0.62249791]\n",
      " [0.06578005 0.5959776 ]\n",
      " [0.07631668 0.57053993]\n",
      " [0.09506937 0.55178724]\n",
      " [0.11382206 0.53303454]\n",
      " [0.13925974 0.52249791]\n",
      " [0.16578005 0.52249791]\n",
      " [0.16578005 0.52249791]]\n",
      "[False False False False False False False False False False False False\n",
      " False False False False False  True False False False False False False\n",
      " False False]\n",
      "bob\n"
     ]
    },
    {
     "data": {
      "image/png": "[encoded data removed]",
      "text/plain": [
       "<Figure size 432x288 with 1 Axes>"
      ]
     },
     "metadata": {
      "needs_background": "light"
     },
     "output_type": "display_data"
    }
   ],
   "source": [
    "# Import Numpy to use random function\n",
    "import numpy as np\n",
    "import matplotlib.pyplot as plt\n",
    "import matplotlib.patches as mpatch\n",
    "import matplotlib.path as mplPath\n",
    "\n",
    "# Create a random number for the discs x and y location\n",
    "DiscX,DiscY =np.random.rand(2,1)\n",
    "print(DiscX,DiscY)\n",
    "\n",
    "# Define disc radius\n",
    "r = 0.1\n",
    "\n",
    "# Create a figure and a plot\n",
    "fig, ax = plt.subplots()\n",
    "\n",
    "# Create a circle with the defined radius, r\n",
    "Disc=mpatch.Circle((DiscX,DiscY), radius=r, facecolor='blue',alpha=0.75)\n",
    "\n",
    "# add circle to the plot\n",
    "ax.add_patch(Disc)\n",
    "\n",
    "# Need to identify the perimeter of the First Disc, that is the vertices\n",
    "verts = Disc.get_path().vertices\n",
    "\n",
    "#Takes the circle patch cordinates and transforms them to data cordinates\n",
    "trans=Disc.get_patch_transform()\n",
    "points=trans.transform(verts)\n",
    "print(points)\n",
    "\n",
    "# Plot the perimter of the first circle\n",
    "plt.plot(points[:,0],points[:,1])\n",
    "\n",
    "#Create a second random number for my 2nd disc..\n",
    "DiscX,DiscY =np.random.rand(2,1)\n",
    "\n",
    "#Define disc radius, this time it will be random\n",
    "r=0.8*np.random.rand(1,1)\n",
    "\n",
    "# Create second disc using random radius,r \n",
    "SecondDisc=mpatch.Circle((DiscX,DiscY), radius=r, facecolor='red',alpha=0.75)\n",
    "\n",
    "# add second disc to the plot\n",
    "ax.add_patch(SecondDisc)\n",
    "\n",
    "\n",
    "\n",
    "# Determine the cordinates for the vertices of the second disc\n",
    "verts2 = SecondDisc.get_path().vertices\n",
    "trans2=SecondDisc.get_patch_transform()\n",
    "points2=trans2.transform(verts2)\n",
    "\n",
    "# Define the path of the first circle using the vertices points\n",
    "path = mplPath.Path(points)\n",
    "\n",
    "# Does the path of the first circle overlap with the points of the second circle\n",
    "inside = path.contains_points(points2)\n",
    "\n",
    "# Print the logicals, if false then the circles will have to be re-organized.\n",
    "print(inside)\n",
    "        \n",
    "if any(inside) == True:\n",
    "    print('bob')\n",
    "\n",
    "    \n"
   ]
  },
  {
   "cell_type": "code",
   "execution_count": null,
   "metadata": {},
   "outputs": [],
   "source": []
  },
  {
   "cell_type": "code",
   "execution_count": null,
   "metadata": {},
   "outputs": [],
   "source": []
  },
  {
   "cell_type": "code",
   "execution_count": null,
   "metadata": {},
   "outputs": [],
   "source": []
  },
  {
   "cell_type": "code",
   "execution_count": null,
   "metadata": {},
   "outputs": [],
   "source": []
  }
 ],
 "metadata": {
  "kernelspec": {
   "display_name": "Python 3",
   "language": "python",
   "name": "python3"
  },
  "language_info": {
   "codemirror_mode": {
    "name": "ipython",
    "version": 3
   },
   "file_extension": ".py",
   "mimetype": "text/x-python",
   "name": "python",
   "nbconvert_exporter": "python",
   "pygments_lexer": "ipython3",
   "version": "3.8.5"
  }
 },
 "nbformat": 4,
 "nbformat_minor": 4
}
