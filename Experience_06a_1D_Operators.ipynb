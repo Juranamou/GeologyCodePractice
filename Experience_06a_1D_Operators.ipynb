{
  "nbformat": 4,
  "nbformat_minor": 0,
  "metadata": {
    "kernelspec": {
      "display_name": "Python 3",
      "language": "python",
      "name": "python3"
    },
    "language_info": {
      "codemirror_mode": {
        "name": "ipython",
        "version": 3
      },
      "file_extension": ".py",
      "mimetype": "text/x-python",
      "name": "python",
      "nbconvert_exporter": "python",
      "pygments_lexer": "ipython3",
      "version": "3.7.6"
    },
    "colab": {
      "name": "Experience 06a 1D Operators.ipynb",
      "provenance": [],
      "collapsed_sections": []
    }
  },
  "cells": [
    {
      "cell_type": "markdown",
      "metadata": {
        "id": "-43f53b4fFAo"
      },
      "source": [
        "# Chapter 6a: 1D Operator formulation"
      ]
    },
    {
      "cell_type": "markdown",
      "metadata": {
        "id": "dSIFfeFffFAt"
      },
      "source": [
        "Let's integrate our operator knowledge, exploring how to create simple operators for the 1D problems that we analyzes in the past. Let's start from the continuity equation, in 1D. This is extremely straightforward because $\\nabla \\cdot \\mathbf{v} = 0$ becomes $\\frac{\\partial v_x}{\\partial x}=0$. Let's therefore create the derivative operator in 1D.\n",
        "\n",
        "We already discovered in the previous experiences that derivatives can be done forward, backward or centered. Let's recall here what we did in the Experience 4."
      ]
    },
    {
      "cell_type": "code",
      "metadata": {
        "colab": {
          "base_uri": "https://localhost:8080/",
          "height": 360
        },
        "id": "BOMcQgGjfFAv",
        "outputId": "f28a76a2-f219-4838-9099-461b1fae1ae0"
      },
      "source": [
        "import matplotlib.pyplot as plt\n",
        "import numpy as np\n",
        "tmax = 2.0 #ending time in seconds\n",
        "tmin = 0.0 #starting time \n",
        "intervals = 20 #number of divisins on time interval\n",
        "dt =(tmax-tmin) / intervals #time stepping\n",
        "nt = intervals + 1\n",
        "time = np.arange(nt) * dt\n",
        "\n",
        "x=np.zeros(nt) #setting Initial position to zero\n",
        "\n",
        "x[0:nt]=np.sin(2*np.pi*time[0:nt])\n",
        "test= np.arange(1001)* (tmax-tmin) / 1000\n",
        "\n",
        "plt.plot(test,np.sin(2*np.pi*test),'-',alpha=0.1)\n",
        "plt.plot(time,x,'o');\n",
        "plt.show()\n",
        "\n",
        "dxdtForward = np.zeros(nt)\n",
        "dxdtBackward = np.zeros(nt)\n",
        "dxdtCentered = np.zeros(nt)\n",
        "\n",
        "dxdtForward[0:nt-1] = (x[1:nt]-x[0:nt-1])/dt\n",
        "dxdtBackward[1:nt] = (x[1:nt]-x[0:nt-1])/dt\n",
        "dxdtCentered[1:nt-1] = 0.5 * (dxdtForward[1:nt-1] + dxdtBackward[1:nt-1])\n",
        "dxdtCentered"
      ],
      "execution_count": null,
      "outputs": [
        {
          "output_type": "display_data",
          "data": {
            "image/png": "[encoded data removed]",
            "text/plain": [
              "<Figure size 432x288 with 1 Axes>"
            ]
          },
          "metadata": {
            "tags": [],
            "needs_background": "light"
          }
        },
        {
          "output_type": "execute_result",
          "data": {
            "text/plain": [
              "array([ 0.        ,  4.75528258,  1.81635632, -1.81635632, -4.75528258,\n",
              "       -5.87785252, -4.75528258, -1.81635632,  1.81635632,  4.75528258,\n",
              "        5.87785252,  4.75528258,  1.81635632, -1.81635632, -4.75528258,\n",
              "       -5.87785252, -4.75528258, -1.81635632,  1.81635632,  4.75528258,\n",
              "        0.        ])"
            ]
          },
          "metadata": {
            "tags": []
          },
          "execution_count": 1
        }
      ]
    },
    {
      "cell_type": "markdown",
      "metadata": {
        "id": "fd8iR3YofFAx"
      },
      "source": [
        "Clearly for an oscillatory motion the continuity equation is not conserved. And that is normal, because in 1D the analytical solution of the continuity equation is very boring. Just an media traveling ad constant speed towards right or left. So, let's forget about the continuity equation and let's focus on how we could have calculated the derivative with an operator, a tensor, instead of the numpy call above. We have to find a matrix such that:\n",
        "\n",
        "\\begin{align}\n",
        "A_{ij} \\cdot x_i = \\left(\\frac{dx}{dt}\\right)_j\n",
        "\\end{align}"
      ]
    },
    {
      "cell_type": "markdown",
      "metadata": {
        "id": "hhB5-it3fFAy"
      },
      "source": [
        "where the indexes indicate the point in space where you are calcualting your derivative. Let's first create together the matrix equivalent to dxdtForward:\n",
        "\n"
      ]
    },
    {
      "cell_type": "code",
      "metadata": {
        "id": "trZbvW33fFAz"
      },
      "source": [
        "# first we create a matrix of the right size of zeros:\n",
        "block=np.zeros((nt,nt),float)\n",
        "\n",
        "# now we start exploring special numpy functions:"
      ],
      "execution_count": null,
      "outputs": []
    },
    {
      "cell_type": "code",
      "metadata": {
        "colab": {
          "base_uri": "https://localhost:8080/"
        },
        "id": "uVNpFWl3fFA1",
        "outputId": "a3194528-3214-4257-8833-1fd27901b0f6"
      },
      "source": [
        "# identity:\n",
        "A=np.identity(nt)\n",
        "print('identity')\n",
        "print(A)"
      ],
      "execution_count": null,
      "outputs": [
        {
          "output_type": "stream",
          "text": [
            "identity\n",
            "[[1. 0. 0. 0. 0. 0. 0. 0. 0. 0. 0. 0. 0. 0. 0. 0. 0. 0. 0. 0. 0.]\n",
            " [0. 1. 0. 0. 0. 0. 0. 0. 0. 0. 0. 0. 0. 0. 0. 0. 0. 0. 0. 0. 0.]\n",
            " [0. 0. 1. 0. 0. 0. 0. 0. 0. 0. 0. 0. 0. 0. 0. 0. 0. 0. 0. 0. 0.]\n",
            " [0. 0. 0. 1. 0. 0. 0. 0. 0. 0. 0. 0. 0. 0. 0. 0. 0. 0. 0. 0. 0.]\n",
            " [0. 0. 0. 0. 1. 0. 0. 0. 0. 0. 0. 0. 0. 0. 0. 0. 0. 0. 0. 0. 0.]\n",
            " [0. 0. 0. 0. 0. 1. 0. 0. 0. 0. 0. 0. 0. 0. 0. 0. 0. 0. 0. 0. 0.]\n",
            " [0. 0. 0. 0. 0. 0. 1. 0. 0. 0. 0. 0. 0. 0. 0. 0. 0. 0. 0. 0. 0.]\n",
            " [0. 0. 0. 0. 0. 0. 0. 1. 0. 0. 0. 0. 0. 0. 0. 0. 0. 0. 0. 0. 0.]\n",
            " [0. 0. 0. 0. 0. 0. 0. 0. 1. 0. 0. 0. 0. 0. 0. 0. 0. 0. 0. 0. 0.]\n",
            " [0. 0. 0. 0. 0. 0. 0. 0. 0. 1. 0. 0. 0. 0. 0. 0. 0. 0. 0. 0. 0.]\n",
            " [0. 0. 0. 0. 0. 0. 0. 0. 0. 0. 1. 0. 0. 0. 0. 0. 0. 0. 0. 0. 0.]\n",
            " [0. 0. 0. 0. 0. 0. 0. 0. 0. 0. 0. 1. 0. 0. 0. 0. 0. 0. 0. 0. 0.]\n",
            " [0. 0. 0. 0. 0. 0. 0. 0. 0. 0. 0. 0. 1. 0. 0. 0. 0. 0. 0. 0. 0.]\n",
            " [0. 0. 0. 0. 0. 0. 0. 0. 0. 0. 0. 0. 0. 1. 0. 0. 0. 0. 0. 0. 0.]\n",
            " [0. 0. 0. 0. 0. 0. 0. 0. 0. 0. 0. 0. 0. 0. 1. 0. 0. 0. 0. 0. 0.]\n",
            " [0. 0. 0. 0. 0. 0. 0. 0. 0. 0. 0. 0. 0. 0. 0. 1. 0. 0. 0. 0. 0.]\n",
            " [0. 0. 0. 0. 0. 0. 0. 0. 0. 0. 0. 0. 0. 0. 0. 0. 1. 0. 0. 0. 0.]\n",
            " [0. 0. 0. 0. 0. 0. 0. 0. 0. 0. 0. 0. 0. 0. 0. 0. 0. 1. 0. 0. 0.]\n",
            " [0. 0. 0. 0. 0. 0. 0. 0. 0. 0. 0. 0. 0. 0. 0. 0. 0. 0. 1. 0. 0.]\n",
            " [0. 0. 0. 0. 0. 0. 0. 0. 0. 0. 0. 0. 0. 0. 0. 0. 0. 0. 0. 1. 0.]\n",
            " [0. 0. 0. 0. 0. 0. 0. 0. 0. 0. 0. 0. 0. 0. 0. 0. 0. 0. 0. 0. 1.]]\n"
          ],
          "name": "stdout"
        }
      ]
    },
    {
      "cell_type": "code",
      "metadata": {
        "colab": {
          "base_uri": "https://localhost:8080/"
        },
        "id": "02Lcc8ONfFA1",
        "outputId": "5ca80bed-42cc-4bb0-8b03-fdf2e9d1b8ac"
      },
      "source": [
        "# diag()\n",
        "A=np.diag(np.ones(nt)*2)\n",
        "print('diag')\n",
        "print(A)"
      ],
      "execution_count": null,
      "outputs": [
        {
          "output_type": "stream",
          "text": [
            "diag\n",
            "[[2. 0. 0. 0. 0. 0. 0. 0. 0. 0. 0. 0. 0. 0. 0. 0. 0. 0. 0. 0. 0.]\n",
            " [0. 2. 0. 0. 0. 0. 0. 0. 0. 0. 0. 0. 0. 0. 0. 0. 0. 0. 0. 0. 0.]\n",
            " [0. 0. 2. 0. 0. 0. 0. 0. 0. 0. 0. 0. 0. 0. 0. 0. 0. 0. 0. 0. 0.]\n",
            " [0. 0. 0. 2. 0. 0. 0. 0. 0. 0. 0. 0. 0. 0. 0. 0. 0. 0. 0. 0. 0.]\n",
            " [0. 0. 0. 0. 2. 0. 0. 0. 0. 0. 0. 0. 0. 0. 0. 0. 0. 0. 0. 0. 0.]\n",
            " [0. 0. 0. 0. 0. 2. 0. 0. 0. 0. 0. 0. 0. 0. 0. 0. 0. 0. 0. 0. 0.]\n",
            " [0. 0. 0. 0. 0. 0. 2. 0. 0. 0. 0. 0. 0. 0. 0. 0. 0. 0. 0. 0. 0.]\n",
            " [0. 0. 0. 0. 0. 0. 0. 2. 0. 0. 0. 0. 0. 0. 0. 0. 0. 0. 0. 0. 0.]\n",
            " [0. 0. 0. 0. 0. 0. 0. 0. 2. 0. 0. 0. 0. 0. 0. 0. 0. 0. 0. 0. 0.]\n",
            " [0. 0. 0. 0. 0. 0. 0. 0. 0. 2. 0. 0. 0. 0. 0. 0. 0. 0. 0. 0. 0.]\n",
            " [0. 0. 0. 0. 0. 0. 0. 0. 0. 0. 2. 0. 0. 0. 0. 0. 0. 0. 0. 0. 0.]\n",
            " [0. 0. 0. 0. 0. 0. 0. 0. 0. 0. 0. 2. 0. 0. 0. 0. 0. 0. 0. 0. 0.]\n",
            " [0. 0. 0. 0. 0. 0. 0. 0. 0. 0. 0. 0. 2. 0. 0. 0. 0. 0. 0. 0. 0.]\n",
            " [0. 0. 0. 0. 0. 0. 0. 0. 0. 0. 0. 0. 0. 2. 0. 0. 0. 0. 0. 0. 0.]\n",
            " [0. 0. 0. 0. 0. 0. 0. 0. 0. 0. 0. 0. 0. 0. 2. 0. 0. 0. 0. 0. 0.]\n",
            " [0. 0. 0. 0. 0. 0. 0. 0. 0. 0. 0. 0. 0. 0. 0. 2. 0. 0. 0. 0. 0.]\n",
            " [0. 0. 0. 0. 0. 0. 0. 0. 0. 0. 0. 0. 0. 0. 0. 0. 2. 0. 0. 0. 0.]\n",
            " [0. 0. 0. 0. 0. 0. 0. 0. 0. 0. 0. 0. 0. 0. 0. 0. 0. 2. 0. 0. 0.]\n",
            " [0. 0. 0. 0. 0. 0. 0. 0. 0. 0. 0. 0. 0. 0. 0. 0. 0. 0. 2. 0. 0.]\n",
            " [0. 0. 0. 0. 0. 0. 0. 0. 0. 0. 0. 0. 0. 0. 0. 0. 0. 0. 0. 2. 0.]\n",
            " [0. 0. 0. 0. 0. 0. 0. 0. 0. 0. 0. 0. 0. 0. 0. 0. 0. 0. 0. 0. 2.]]\n"
          ],
          "name": "stdout"
        }
      ]
    },
    {
      "cell_type": "code",
      "metadata": {
        "colab": {
          "base_uri": "https://localhost:8080/"
        },
        "id": "L6vPqPfZfFA2",
        "outputId": "4d49c4b4-2eb8-4bd6-c53c-223655249027"
      },
      "source": [
        "# shifted diag()\n",
        "A=np.diag(np.ones(nt)*3,2)\n",
        "print('shifted diag')\n",
        "print(A)"
      ],
      "execution_count": null,
      "outputs": [
        {
          "output_type": "stream",
          "text": [
            "shifted diag\n",
            "[[0. 0. 3. 0. 0. 0. 0. 0. 0. 0. 0. 0. 0. 0. 0. 0. 0. 0. 0. 0. 0. 0. 0.]\n",
            " [0. 0. 0. 3. 0. 0. 0. 0. 0. 0. 0. 0. 0. 0. 0. 0. 0. 0. 0. 0. 0. 0. 0.]\n",
            " [0. 0. 0. 0. 3. 0. 0. 0. 0. 0. 0. 0. 0. 0. 0. 0. 0. 0. 0. 0. 0. 0. 0.]\n",
            " [0. 0. 0. 0. 0. 3. 0. 0. 0. 0. 0. 0. 0. 0. 0. 0. 0. 0. 0. 0. 0. 0. 0.]\n",
            " [0. 0. 0. 0. 0. 0. 3. 0. 0. 0. 0. 0. 0. 0. 0. 0. 0. 0. 0. 0. 0. 0. 0.]\n",
            " [0. 0. 0. 0. 0. 0. 0. 3. 0. 0. 0. 0. 0. 0. 0. 0. 0. 0. 0. 0. 0. 0. 0.]\n",
            " [0. 0. 0. 0. 0. 0. 0. 0. 3. 0. 0. 0. 0. 0. 0. 0. 0. 0. 0. 0. 0. 0. 0.]\n",
            " [0. 0. 0. 0. 0. 0. 0. 0. 0. 3. 0. 0. 0. 0. 0. 0. 0. 0. 0. 0. 0. 0. 0.]\n",
            " [0. 0. 0. 0. 0. 0. 0. 0. 0. 0. 3. 0. 0. 0. 0. 0. 0. 0. 0. 0. 0. 0. 0.]\n",
            " [0. 0. 0. 0. 0. 0. 0. 0. 0. 0. 0. 3. 0. 0. 0. 0. 0. 0. 0. 0. 0. 0. 0.]\n",
            " [0. 0. 0. 0. 0. 0. 0. 0. 0. 0. 0. 0. 3. 0. 0. 0. 0. 0. 0. 0. 0. 0. 0.]\n",
            " [0. 0. 0. 0. 0. 0. 0. 0. 0. 0. 0. 0. 0. 3. 0. 0. 0. 0. 0. 0. 0. 0. 0.]\n",
            " [0. 0. 0. 0. 0. 0. 0. 0. 0. 0. 0. 0. 0. 0. 3. 0. 0. 0. 0. 0. 0. 0. 0.]\n",
            " [0. 0. 0. 0. 0. 0. 0. 0. 0. 0. 0. 0. 0. 0. 0. 3. 0. 0. 0. 0. 0. 0. 0.]\n",
            " [0. 0. 0. 0. 0. 0. 0. 0. 0. 0. 0. 0. 0. 0. 0. 0. 3. 0. 0. 0. 0. 0. 0.]\n",
            " [0. 0. 0. 0. 0. 0. 0. 0. 0. 0. 0. 0. 0. 0. 0. 0. 0. 3. 0. 0. 0. 0. 0.]\n",
            " [0. 0. 0. 0. 0. 0. 0. 0. 0. 0. 0. 0. 0. 0. 0. 0. 0. 0. 3. 0. 0. 0. 0.]\n",
            " [0. 0. 0. 0. 0. 0. 0. 0. 0. 0. 0. 0. 0. 0. 0. 0. 0. 0. 0. 3. 0. 0. 0.]\n",
            " [0. 0. 0. 0. 0. 0. 0. 0. 0. 0. 0. 0. 0. 0. 0. 0. 0. 0. 0. 0. 3. 0. 0.]\n",
            " [0. 0. 0. 0. 0. 0. 0. 0. 0. 0. 0. 0. 0. 0. 0. 0. 0. 0. 0. 0. 0. 3. 0.]\n",
            " [0. 0. 0. 0. 0. 0. 0. 0. 0. 0. 0. 0. 0. 0. 0. 0. 0. 0. 0. 0. 0. 0. 3.]\n",
            " [0. 0. 0. 0. 0. 0. 0. 0. 0. 0. 0. 0. 0. 0. 0. 0. 0. 0. 0. 0. 0. 0. 0.]\n",
            " [0. 0. 0. 0. 0. 0. 0. 0. 0. 0. 0. 0. 0. 0. 0. 0. 0. 0. 0. 0. 0. 0. 0.]]\n"
          ],
          "name": "stdout"
        }
      ]
    },
    {
      "cell_type": "code",
      "metadata": {
        "colab": {
          "base_uri": "https://localhost:8080/"
        },
        "id": "Qlcanxf3fFA3",
        "outputId": "8a7a70c2-8ba5-4872-8090-406f5d884e61"
      },
      "source": [
        "# kron()\n",
        "print(np.ones((3,3)))\n",
        "print('times')\n",
        "print(np.identity(3)*4)\n",
        "print('makes')\n",
        "A=np.kron(np.ones((3,3)),np.identity(3)*4)\n",
        "print(A)\n",
        "print('kron is a controlled combination of matrices')"
      ],
      "execution_count": null,
      "outputs": [
        {
          "output_type": "stream",
          "text": [
            "[[1. 1. 1.]\n",
            " [1. 1. 1.]\n",
            " [1. 1. 1.]]\n",
            "times\n",
            "[[4. 0. 0.]\n",
            " [0. 4. 0.]\n",
            " [0. 0. 4.]]\n",
            "makes\n",
            "[[4. 0. 0. 4. 0. 0. 4. 0. 0.]\n",
            " [0. 4. 0. 0. 4. 0. 0. 4. 0.]\n",
            " [0. 0. 4. 0. 0. 4. 0. 0. 4.]\n",
            " [4. 0. 0. 4. 0. 0. 4. 0. 0.]\n",
            " [0. 4. 0. 0. 4. 0. 0. 4. 0.]\n",
            " [0. 0. 4. 0. 0. 4. 0. 0. 4.]\n",
            " [4. 0. 0. 4. 0. 0. 4. 0. 0.]\n",
            " [0. 4. 0. 0. 4. 0. 0. 4. 0.]\n",
            " [0. 0. 4. 0. 0. 4. 0. 0. 4.]]\n",
            "kron is a controlled combination of matrices\n"
          ],
          "name": "stdout"
        }
      ]
    },
    {
      "cell_type": "markdown",
      "metadata": {
        "id": "5Z3xs72QfFA4"
      },
      "source": [
        "### Exercise 1\n",
        "\n",
        "Using *np.kron()*, *np.ones()*, *np.zeros()*, etc Create a matrix made of 6x6 blocks, each of 3x3 matrix of 0,1,2. You choose the shape of the 3x3 matrix, the coolest you can come up. "
      ]
    },
    {
      "cell_type": "code",
      "metadata": {
        "colab": {
          "base_uri": "https://localhost:8080/",
          "height": 779
        },
        "id": "c5hu0Y9FfFA5",
        "outputId": "7e6e3e1f-227d-46e8-98a8-02817d13096c"
      },
      "source": [
        "# here write your solution\n",
        "\n",
        "a = np.array([[0,1,2],[2,1,0],[0,1,2]])\n",
        "print(a)\n",
        "\n",
        "b = np.ones((6,6))\n",
        "print(b)\n",
        "\n",
        "#Kronecker Product\n",
        "bigM = np.kron(b,a)\n",
        "print(bigM)\n",
        "\n",
        "plt.imshow(bigM)\n",
        "plt.show()"
      ],
      "execution_count": null,
      "outputs": [
        {
          "output_type": "stream",
          "text": [
            "[[0 1 2]\n",
            " [2 1 0]\n",
            " [0 1 2]]\n",
            "[[1. 1. 1. 1. 1. 1.]\n",
            " [1. 1. 1. 1. 1. 1.]\n",
            " [1. 1. 1. 1. 1. 1.]\n",
            " [1. 1. 1. 1. 1. 1.]\n",
            " [1. 1. 1. 1. 1. 1.]\n",
            " [1. 1. 1. 1. 1. 1.]]\n",
            "[[0. 1. 2. 0. 1. 2. 0. 1. 2. 0. 1. 2. 0. 1. 2. 0. 1. 2.]\n",
            " [2. 1. 0. 2. 1. 0. 2. 1. 0. 2. 1. 0. 2. 1. 0. 2. 1. 0.]\n",
            " [0. 1. 2. 0. 1. 2. 0. 1. 2. 0. 1. 2. 0. 1. 2. 0. 1. 2.]\n",
            " [0. 1. 2. 0. 1. 2. 0. 1. 2. 0. 1. 2. 0. 1. 2. 0. 1. 2.]\n",
            " [2. 1. 0. 2. 1. 0. 2. 1. 0. 2. 1. 0. 2. 1. 0. 2. 1. 0.]\n",
            " [0. 1. 2. 0. 1. 2. 0. 1. 2. 0. 1. 2. 0. 1. 2. 0. 1. 2.]\n",
            " [0. 1. 2. 0. 1. 2. 0. 1. 2. 0. 1. 2. 0. 1. 2. 0. 1. 2.]\n",
            " [2. 1. 0. 2. 1. 0. 2. 1. 0. 2. 1. 0. 2. 1. 0. 2. 1. 0.]\n",
            " [0. 1. 2. 0. 1. 2. 0. 1. 2. 0. 1. 2. 0. 1. 2. 0. 1. 2.]\n",
            " [0. 1. 2. 0. 1. 2. 0. 1. 2. 0. 1. 2. 0. 1. 2. 0. 1. 2.]\n",
            " [2. 1. 0. 2. 1. 0. 2. 1. 0. 2. 1. 0. 2. 1. 0. 2. 1. 0.]\n",
            " [0. 1. 2. 0. 1. 2. 0. 1. 2. 0. 1. 2. 0. 1. 2. 0. 1. 2.]\n",
            " [0. 1. 2. 0. 1. 2. 0. 1. 2. 0. 1. 2. 0. 1. 2. 0. 1. 2.]\n",
            " [2. 1. 0. 2. 1. 0. 2. 1. 0. 2. 1. 0. 2. 1. 0. 2. 1. 0.]\n",
            " [0. 1. 2. 0. 1. 2. 0. 1. 2. 0. 1. 2. 0. 1. 2. 0. 1. 2.]\n",
            " [0. 1. 2. 0. 1. 2. 0. 1. 2. 0. 1. 2. 0. 1. 2. 0. 1. 2.]\n",
            " [2. 1. 0. 2. 1. 0. 2. 1. 0. 2. 1. 0. 2. 1. 0. 2. 1. 0.]\n",
            " [0. 1. 2. 0. 1. 2. 0. 1. 2. 0. 1. 2. 0. 1. 2. 0. 1. 2.]]\n"
          ],
          "name": "stdout"
        },
        {
          "output_type": "display_data",
          "data": {
            "image/png": "[encoded data removed]",
            "text/plain": [
              "<Figure size 432x288 with 1 Axes>"
            ]
          },
          "metadata": {
            "tags": [],
            "needs_background": "light"
          }
        }
      ]
    },
    {
      "cell_type": "markdown",
      "metadata": {
        "id": "oVm7FLLhfFA6"
      },
      "source": [
        "Since dxdtForwardOp is simply 1/dt for the difference between the next and the present value of x, then it is made of two diagonals next to each other, one to the right and the other on the main diagonal."
      ]
    },
    {
      "cell_type": "code",
      "metadata": {
        "colab": {
          "base_uri": "https://localhost:8080/"
        },
        "id": "Si77AA2bfFA7",
        "outputId": "31b44782-071a-46c3-fae4-c7a666a30070"
      },
      "source": [
        "dxdtForwardOp = -1/dt*np.diag(np.ones(nt)) + 1/dt*np.diag(np.ones(nt-1),1)\n",
        "print(dxdtForwardOp)"
      ],
      "execution_count": null,
      "outputs": [
        {
          "output_type": "stream",
          "text": [
            "[[-10.  10.   0.   0.   0.   0.   0.   0.   0.   0.   0.   0.   0.   0.\n",
            "    0.   0.   0.   0.   0.   0.   0.]\n",
            " [  0. -10.  10.   0.   0.   0.   0.   0.   0.   0.   0.   0.   0.   0.\n",
            "    0.   0.   0.   0.   0.   0.   0.]\n",
            " [  0.   0. -10.  10.   0.   0.   0.   0.   0.   0.   0.   0.   0.   0.\n",
            "    0.   0.   0.   0.   0.   0.   0.]\n",
            " [  0.   0.   0. -10.  10.   0.   0.   0.   0.   0.   0.   0.   0.   0.\n",
            "    0.   0.   0.   0.   0.   0.   0.]\n",
            " [  0.   0.   0.   0. -10.  10.   0.   0.   0.   0.   0.   0.   0.   0.\n",
            "    0.   0.   0.   0.   0.   0.   0.]\n",
            " [  0.   0.   0.   0.   0. -10.  10.   0.   0.   0.   0.   0.   0.   0.\n",
            "    0.   0.   0.   0.   0.   0.   0.]\n",
            " [  0.   0.   0.   0.   0.   0. -10.  10.   0.   0.   0.   0.   0.   0.\n",
            "    0.   0.   0.   0.   0.   0.   0.]\n",
            " [  0.   0.   0.   0.   0.   0.   0. -10.  10.   0.   0.   0.   0.   0.\n",
            "    0.   0.   0.   0.   0.   0.   0.]\n",
            " [  0.   0.   0.   0.   0.   0.   0.   0. -10.  10.   0.   0.   0.   0.\n",
            "    0.   0.   0.   0.   0.   0.   0.]\n",
            " [  0.   0.   0.   0.   0.   0.   0.   0.   0. -10.  10.   0.   0.   0.\n",
            "    0.   0.   0.   0.   0.   0.   0.]\n",
            " [  0.   0.   0.   0.   0.   0.   0.   0.   0.   0. -10.  10.   0.   0.\n",
            "    0.   0.   0.   0.   0.   0.   0.]\n",
            " [  0.   0.   0.   0.   0.   0.   0.   0.   0.   0.   0. -10.  10.   0.\n",
            "    0.   0.   0.   0.   0.   0.   0.]\n",
            " [  0.   0.   0.   0.   0.   0.   0.   0.   0.   0.   0.   0. -10.  10.\n",
            "    0.   0.   0.   0.   0.   0.   0.]\n",
            " [  0.   0.   0.   0.   0.   0.   0.   0.   0.   0.   0.   0.   0. -10.\n",
            "   10.   0.   0.   0.   0.   0.   0.]\n",
            " [  0.   0.   0.   0.   0.   0.   0.   0.   0.   0.   0.   0.   0.   0.\n",
            "  -10.  10.   0.   0.   0.   0.   0.]\n",
            " [  0.   0.   0.   0.   0.   0.   0.   0.   0.   0.   0.   0.   0.   0.\n",
            "    0. -10.  10.   0.   0.   0.   0.]\n",
            " [  0.   0.   0.   0.   0.   0.   0.   0.   0.   0.   0.   0.   0.   0.\n",
            "    0.   0. -10.  10.   0.   0.   0.]\n",
            " [  0.   0.   0.   0.   0.   0.   0.   0.   0.   0.   0.   0.   0.   0.\n",
            "    0.   0.   0. -10.  10.   0.   0.]\n",
            " [  0.   0.   0.   0.   0.   0.   0.   0.   0.   0.   0.   0.   0.   0.\n",
            "    0.   0.   0.   0. -10.  10.   0.]\n",
            " [  0.   0.   0.   0.   0.   0.   0.   0.   0.   0.   0.   0.   0.   0.\n",
            "    0.   0.   0.   0.   0. -10.  10.]\n",
            " [  0.   0.   0.   0.   0.   0.   0.   0.   0.   0.   0.   0.   0.   0.\n",
            "    0.   0.   0.   0.   0.   0. -10.]]\n"
          ],
          "name": "stdout"
        }
      ]
    },
    {
      "cell_type": "code",
      "metadata": {
        "colab": {
          "base_uri": "https://localhost:8080/",
          "height": 379
        },
        "id": "XrpFk18AfFA8",
        "outputId": "00924c36-feb9-4d59-9aa5-fc12ed28f59a"
      },
      "source": [
        "# let's see if it works!\n",
        "dxdtForward[0:nt-1] = (x[1:nt]-x[0:nt-1])/dt\n",
        "dxdtForward2 = np.zeros(nt)\n",
        "dxdtForward2= dxdtForwardOp.dot(x)\n",
        "\n",
        "plt.plot(time,dxdtForward,'+');\n",
        "plt.plot(time,dxdtForward2,'x');\n",
        "plt.show()\n",
        "\n",
        "print(dxdtForward-dxdtForward2)\n",
        "# PERFECT!"
      ],
      "execution_count": null,
      "outputs": [
        {
          "output_type": "display_data",
          "data": {
            "image/png": "[encoded data removed]",
            "text/plain": [
              "<Figure size 432x288 with 1 Axes>"
            ]
          },
          "metadata": {
            "tags": [],
            "needs_background": "light"
          }
        },
        {
          "output_type": "stream",
          "text": [
            "[-8.88178420e-16  8.88178420e-16  0.00000000e+00 -8.88178420e-16\n",
            "  8.88178420e-16  0.00000000e+00 -4.44089210e-16  6.66133815e-16\n",
            "  0.00000000e+00  0.00000000e+00  0.00000000e+00 -1.33226763e-15\n",
            "  6.66133815e-16  0.00000000e+00  0.00000000e+00  8.88178420e-16\n",
            "  0.00000000e+00  4.44089210e-16 -8.88178420e-16  8.88178420e-16\n",
            " -4.89858720e-15]\n"
          ],
          "name": "stdout"
        }
      ]
    },
    {
      "cell_type": "markdown",
      "metadata": {
        "id": "HR79ISJ0fFA9"
      },
      "source": [
        "A more careful look at what we created should highlight that the solution was not perfect. One point is miscalculated. The last one. This is normal, because we need the next number to calculate the derivative. So, out of nt values for x, we can calculate only nt-1 values of the derivative, using this first order approximation. But that is ok. Just we understand that the operator should go from nt to nt-1, so it should not be a squared matrix but a rectangular one, with dimensions $nt * (nt-1)$"
      ]
    },
    {
      "cell_type": "markdown",
      "metadata": {
        "id": "H0EicPlAfFA-"
      },
      "source": [
        "### Exercise 2\n",
        "Create the other two matrix operators, the backward and centered ones "
      ]
    },
    {
      "cell_type": "code",
      "metadata": {
        "colab": {
          "base_uri": "https://localhost:8080/",
          "height": 1000
        },
        "id": "TUxa1vx7fFA-",
        "outputId": "44a5b4cc-c4fe-4ae3-db92-73aca2549e82"
      },
      "source": [
        "# here write your solution\n",
        "\n",
        "dxdtBackwardOp = 1/dt*np.diag(np.ones(nt)) + -1/dt*np.diag(np.ones(nt-1),-1)\n",
        "print(dxdtBackwardOp)\n",
        "\n",
        "dxdtBackward2 = np.zeros(nt)\n",
        "dxdtBackward2= dxdtBackwardOp.dot(x)\n",
        "\n",
        "\n",
        "# plt.plot(time,dxdtBackward,'+');\n",
        "# plt.plot(time,dxdtBackward2,'x');\n",
        "\n",
        "dxdtCenteredOp = 0.5*(dxdtBackwardOp + dxdtForwardOp)\n",
        "print(dxdtCenteredOp)\n",
        "dxdtCentered2 = np.zeros(nt)\n",
        "dxdtCentered2= dxdtCenteredOp.dot(x)\n",
        "# or dxdtCenteredOp= 1/2/dt*np.diag(,1) ...\n",
        "\n",
        "plt.plot(time,dxdtCentered,'+');\n",
        "plt.plot(time,dxdtCentered2,'x');\n"
      ],
      "execution_count": null,
      "outputs": [
        {
          "output_type": "stream",
          "text": [
            "[[ 10.   0.   0.   0.   0.   0.   0.   0.   0.   0.   0.   0.   0.   0.\n",
            "    0.   0.   0.   0.   0.   0.   0.]\n",
            " [-10.  10.   0.   0.   0.   0.   0.   0.   0.   0.   0.   0.   0.   0.\n",
            "    0.   0.   0.   0.   0.   0.   0.]\n",
            " [  0. -10.  10.   0.   0.   0.   0.   0.   0.   0.   0.   0.   0.   0.\n",
            "    0.   0.   0.   0.   0.   0.   0.]\n",
            " [  0.   0. -10.  10.   0.   0.   0.   0.   0.   0.   0.   0.   0.   0.\n",
            "    0.   0.   0.   0.   0.   0.   0.]\n",
            " [  0.   0.   0. -10.  10.   0.   0.   0.   0.   0.   0.   0.   0.   0.\n",
            "    0.   0.   0.   0.   0.   0.   0.]\n",
            " [  0.   0.   0.   0. -10.  10.   0.   0.   0.   0.   0.   0.   0.   0.\n",
            "    0.   0.   0.   0.   0.   0.   0.]\n",
            " [  0.   0.   0.   0.   0. -10.  10.   0.   0.   0.   0.   0.   0.   0.\n",
            "    0.   0.   0.   0.   0.   0.   0.]\n",
            " [  0.   0.   0.   0.   0.   0. -10.  10.   0.   0.   0.   0.   0.   0.\n",
            "    0.   0.   0.   0.   0.   0.   0.]\n",
            " [  0.   0.   0.   0.   0.   0.   0. -10.  10.   0.   0.   0.   0.   0.\n",
            "    0.   0.   0.   0.   0.   0.   0.]\n",
            " [  0.   0.   0.   0.   0.   0.   0.   0. -10.  10.   0.   0.   0.   0.\n",
            "    0.   0.   0.   0.   0.   0.   0.]\n",
            " [  0.   0.   0.   0.   0.   0.   0.   0.   0. -10.  10.   0.   0.   0.\n",
            "    0.   0.   0.   0.   0.   0.   0.]\n",
            " [  0.   0.   0.   0.   0.   0.   0.   0.   0.   0. -10.  10.   0.   0.\n",
            "    0.   0.   0.   0.   0.   0.   0.]\n",
            " [  0.   0.   0.   0.   0.   0.   0.   0.   0.   0.   0. -10.  10.   0.\n",
            "    0.   0.   0.   0.   0.   0.   0.]\n",
            " [  0.   0.   0.   0.   0.   0.   0.   0.   0.   0.   0.   0. -10.  10.\n",
            "    0.   0.   0.   0.   0.   0.   0.]\n",
            " [  0.   0.   0.   0.   0.   0.   0.   0.   0.   0.   0.   0.   0. -10.\n",
            "   10.   0.   0.   0.   0.   0.   0.]\n",
            " [  0.   0.   0.   0.   0.   0.   0.   0.   0.   0.   0.   0.   0.   0.\n",
            "  -10.  10.   0.   0.   0.   0.   0.]\n",
            " [  0.   0.   0.   0.   0.   0.   0.   0.   0.   0.   0.   0.   0.   0.\n",
            "    0. -10.  10.   0.   0.   0.   0.]\n",
            " [  0.   0.   0.   0.   0.   0.   0.   0.   0.   0.   0.   0.   0.   0.\n",
            "    0.   0. -10.  10.   0.   0.   0.]\n",
            " [  0.   0.   0.   0.   0.   0.   0.   0.   0.   0.   0.   0.   0.   0.\n",
            "    0.   0.   0. -10.  10.   0.   0.]\n",
            " [  0.   0.   0.   0.   0.   0.   0.   0.   0.   0.   0.   0.   0.   0.\n",
            "    0.   0.   0.   0. -10.  10.   0.]\n",
            " [  0.   0.   0.   0.   0.   0.   0.   0.   0.   0.   0.   0.   0.   0.\n",
            "    0.   0.   0.   0.   0. -10.  10.]]\n",
            "[[ 0.  5.  0.  0.  0.  0.  0.  0.  0.  0.  0.  0.  0.  0.  0.  0.  0.  0.\n",
            "   0.  0.  0.]\n",
            " [-5.  0.  5.  0.  0.  0.  0.  0.  0.  0.  0.  0.  0.  0.  0.  0.  0.  0.\n",
            "   0.  0.  0.]\n",
            " [ 0. -5.  0.  5.  0.  0.  0.  0.  0.  0.  0.  0.  0.  0.  0.  0.  0.  0.\n",
            "   0.  0.  0.]\n",
            " [ 0.  0. -5.  0.  5.  0.  0.  0.  0.  0.  0.  0.  0.  0.  0.  0.  0.  0.\n",
            "   0.  0.  0.]\n",
            " [ 0.  0.  0. -5.  0.  5.  0.  0.  0.  0.  0.  0.  0.  0.  0.  0.  0.  0.\n",
            "   0.  0.  0.]\n",
            " [ 0.  0.  0.  0. -5.  0.  5.  0.  0.  0.  0.  0.  0.  0.  0.  0.  0.  0.\n",
            "   0.  0.  0.]\n",
            " [ 0.  0.  0.  0.  0. -5.  0.  5.  0.  0.  0.  0.  0.  0.  0.  0.  0.  0.\n",
            "   0.  0.  0.]\n",
            " [ 0.  0.  0.  0.  0.  0. -5.  0.  5.  0.  0.  0.  0.  0.  0.  0.  0.  0.\n",
            "   0.  0.  0.]\n",
            " [ 0.  0.  0.  0.  0.  0.  0. -5.  0.  5.  0.  0.  0.  0.  0.  0.  0.  0.\n",
            "   0.  0.  0.]\n",
            " [ 0.  0.  0.  0.  0.  0.  0.  0. -5.  0.  5.  0.  0.  0.  0.  0.  0.  0.\n",
            "   0.  0.  0.]\n",
            " [ 0.  0.  0.  0.  0.  0.  0.  0.  0. -5.  0.  5.  0.  0.  0.  0.  0.  0.\n",
            "   0.  0.  0.]\n",
            " [ 0.  0.  0.  0.  0.  0.  0.  0.  0.  0. -5.  0.  5.  0.  0.  0.  0.  0.\n",
            "   0.  0.  0.]\n",
            " [ 0.  0.  0.  0.  0.  0.  0.  0.  0.  0.  0. -5.  0.  5.  0.  0.  0.  0.\n",
            "   0.  0.  0.]\n",
            " [ 0.  0.  0.  0.  0.  0.  0.  0.  0.  0.  0.  0. -5.  0.  5.  0.  0.  0.\n",
            "   0.  0.  0.]\n",
            " [ 0.  0.  0.  0.  0.  0.  0.  0.  0.  0.  0.  0.  0. -5.  0.  5.  0.  0.\n",
            "   0.  0.  0.]\n",
            " [ 0.  0.  0.  0.  0.  0.  0.  0.  0.  0.  0.  0.  0.  0. -5.  0.  5.  0.\n",
            "   0.  0.  0.]\n",
            " [ 0.  0.  0.  0.  0.  0.  0.  0.  0.  0.  0.  0.  0.  0.  0. -5.  0.  5.\n",
            "   0.  0.  0.]\n",
            " [ 0.  0.  0.  0.  0.  0.  0.  0.  0.  0.  0.  0.  0.  0.  0.  0. -5.  0.\n",
            "   5.  0.  0.]\n",
            " [ 0.  0.  0.  0.  0.  0.  0.  0.  0.  0.  0.  0.  0.  0.  0.  0.  0. -5.\n",
            "   0.  5.  0.]\n",
            " [ 0.  0.  0.  0.  0.  0.  0.  0.  0.  0.  0.  0.  0.  0.  0.  0.  0.  0.\n",
            "  -5.  0.  5.]\n",
            " [ 0.  0.  0.  0.  0.  0.  0.  0.  0.  0.  0.  0.  0.  0.  0.  0.  0.  0.\n",
            "   0. -5.  0.]]\n"
          ],
          "name": "stdout"
        },
        {
          "output_type": "display_data",
          "data": {
            "image/png": "[encoded data removed]",
            "text/plain": [
              "<Figure size 432x288 with 1 Axes>"
            ]
          },
          "metadata": {
            "tags": [],
            "needs_background": "light"
          }
        }
      ]
    },
    {
      "cell_type": "markdown",
      "metadata": {
        "id": "nl-c5jG1fFA_"
      },
      "source": [
        "Let's now calculate the second derivative. We remember the nicely centerd formulation from the kinematic experience."
      ]
    },
    {
      "cell_type": "code",
      "metadata": {
        "colab": {
          "base_uri": "https://localhost:8080/",
          "height": 265
        },
        "id": "XVIxbDE5fFBA",
        "outputId": "54ac9380-ebdf-4af8-e55f-3dd539b300e7"
      },
      "source": [
        "d2xdt2 = ( x[0:nt-2] - 2*x[1:nt-1] + x[2:nt] ) / dt**2\n",
        "plt.plot(time[1:-1],d2xdt2,'o');\n",
        "#where you see that now it has dimensions nt-2"
      ],
      "execution_count": null,
      "outputs": [
        {
          "output_type": "display_data",
          "data": {
            "image/png": "[encoded data removed]",
            "text/plain": [
              "<Figure size 432x288 with 1 Axes>"
            ]
          },
          "metadata": {
            "tags": [],
            "needs_background": "light"
          }
        }
      ]
    },
    {
      "cell_type": "markdown",
      "metadata": {
        "id": "tLtFpwyAfFBA"
      },
      "source": [
        "### Exercise 3\n",
        "Create directly this operator, d2xdt2"
      ]
    },
    {
      "cell_type": "code",
      "metadata": {
        "colab": {
          "base_uri": "https://localhost:8080/",
          "height": 1000
        },
        "id": "v-Su5_AlfFBB",
        "outputId": "e77633bf-ffd1-4a3a-b9b1-2d9828549911"
      },
      "source": [
        "# write here your solution\r\n",
        "# dxdtForwardOp = -1/dt*np.diag(np.ones(nt)) + 1/dt*np.diag(np.ones(nt-1),1)\r\n",
        "d2xdt2 = ( x[0:nt-2] - 2*x[1:nt-1] + x[2:nt] ) / dt**2\r\n",
        "d2xdt2Op = np.diag(np.ones(nt-1),1) - 2*np.diag(np.ones(nt)) + np.diag(np.ones(nt-1),-1)\r\n",
        "print(d2xdt2Op)\r\n",
        "d2xdt2_2=d2xdt2Op.dot(x)\r\n",
        "plt.plot(time[1:-1],d2xdt2_2[1:-1],'o');\r\n",
        "\r\n"
      ],
      "execution_count": null,
      "outputs": [
        {
          "output_type": "stream",
          "text": [
            "[[-2.  1.  0.  0.  0.  0.  0.  0.  0.  0.  0.  0.  0.  0.  0.  0.  0.  0.\n",
            "   0.  0.  0.]\n",
            " [ 1. -2.  1.  0.  0.  0.  0.  0.  0.  0.  0.  0.  0.  0.  0.  0.  0.  0.\n",
            "   0.  0.  0.]\n",
            " [ 0.  1. -2.  1.  0.  0.  0.  0.  0.  0.  0.  0.  0.  0.  0.  0.  0.  0.\n",
            "   0.  0.  0.]\n",
            " [ 0.  0.  1. -2.  1.  0.  0.  0.  0.  0.  0.  0.  0.  0.  0.  0.  0.  0.\n",
            "   0.  0.  0.]\n",
            " [ 0.  0.  0.  1. -2.  1.  0.  0.  0.  0.  0.  0.  0.  0.  0.  0.  0.  0.\n",
            "   0.  0.  0.]\n",
            " [ 0.  0.  0.  0.  1. -2.  1.  0.  0.  0.  0.  0.  0.  0.  0.  0.  0.  0.\n",
            "   0.  0.  0.]\n",
            " [ 0.  0.  0.  0.  0.  1. -2.  1.  0.  0.  0.  0.  0.  0.  0.  0.  0.  0.\n",
            "   0.  0.  0.]\n",
            " [ 0.  0.  0.  0.  0.  0.  1. -2.  1.  0.  0.  0.  0.  0.  0.  0.  0.  0.\n",
            "   0.  0.  0.]\n",
            " [ 0.  0.  0.  0.  0.  0.  0.  1. -2.  1.  0.  0.  0.  0.  0.  0.  0.  0.\n",
            "   0.  0.  0.]\n",
            " [ 0.  0.  0.  0.  0.  0.  0.  0.  1. -2.  1.  0.  0.  0.  0.  0.  0.  0.\n",
            "   0.  0.  0.]\n",
            " [ 0.  0.  0.  0.  0.  0.  0.  0.  0.  1. -2.  1.  0.  0.  0.  0.  0.  0.\n",
            "   0.  0.  0.]\n",
            " [ 0.  0.  0.  0.  0.  0.  0.  0.  0.  0.  1. -2.  1.  0.  0.  0.  0.  0.\n",
            "   0.  0.  0.]\n",
            " [ 0.  0.  0.  0.  0.  0.  0.  0.  0.  0.  0.  1. -2.  1.  0.  0.  0.  0.\n",
            "   0.  0.  0.]\n",
            " [ 0.  0.  0.  0.  0.  0.  0.  0.  0.  0.  0.  0.  1. -2.  1.  0.  0.  0.\n",
            "   0.  0.  0.]\n",
            " [ 0.  0.  0.  0.  0.  0.  0.  0.  0.  0.  0.  0.  0.  1. -2.  1.  0.  0.\n",
            "   0.  0.  0.]\n",
            " [ 0.  0.  0.  0.  0.  0.  0.  0.  0.  0.  0.  0.  0.  0.  1. -2.  1.  0.\n",
            "   0.  0.  0.]\n",
            " [ 0.  0.  0.  0.  0.  0.  0.  0.  0.  0.  0.  0.  0.  0.  0.  1. -2.  1.\n",
            "   0.  0.  0.]\n",
            " [ 0.  0.  0.  0.  0.  0.  0.  0.  0.  0.  0.  0.  0.  0.  0.  0.  1. -2.\n",
            "   1.  0.  0.]\n",
            " [ 0.  0.  0.  0.  0.  0.  0.  0.  0.  0.  0.  0.  0.  0.  0.  0.  0.  1.\n",
            "  -2.  1.  0.]\n",
            " [ 0.  0.  0.  0.  0.  0.  0.  0.  0.  0.  0.  0.  0.  0.  0.  0.  0.  0.\n",
            "   1. -2.  1.]\n",
            " [ 0.  0.  0.  0.  0.  0.  0.  0.  0.  0.  0.  0.  0.  0.  0.  0.  0.  0.\n",
            "   0.  1. -2.]]\n"
          ],
          "name": "stdout"
        },
        {
          "output_type": "display_data",
          "data": {
            "image/png": "[encoded data removed]",
            "text/plain": [
              "<Figure size 432x288 with 1 Axes>"
            ]
          },
          "metadata": {
            "tags": [],
            "needs_background": "light"
          }
        }
      ]
    },
    {
      "cell_type": "markdown",
      "metadata": {
        "id": "ELVQT7SIfFBB"
      },
      "source": [
        "Let's do now something more interesting. Let's create the second operator by multiplying the operator derivative in one 1D by itself. Clearly, we need to be careful to the dimensions (reduction of one for each derivative). Other than that, we just have to repeat the work twice. Let's what happens if I use only the centered version of the 1D operators.\n"
      ]
    },
    {
      "cell_type": "code",
      "metadata": {
        "colab": {
          "base_uri": "https://localhost:8080/",
          "height": 1000
        },
        "id": "PbR0vsX-fFBC",
        "outputId": "96cd52ab-aa66-45b1-e190-a9024fa985d7"
      },
      "source": [
        "# first I create the centered operator like before\n",
        "dxdtCenteredOp = -1/2/dt*np.diag(np.ones(nt-1),-1) + 1/2/dt*np.diag(np.ones(nt-1),1)\n",
        "# and then a multiply it by itself:\n",
        "d2xdt2OpCentered = dxdtCenteredOp.dot(dxdtCenteredOp)\n",
        "print(d2xdt2OpCentered)\n",
        "plt.imshow(d2xdt2OpCentered)\n"
      ],
      "execution_count": null,
      "outputs": [
        {
          "output_type": "stream",
          "text": [
            "[[-25.   0.  25.   0.   0.   0.   0.   0.   0.   0.   0.   0.   0.   0.\n",
            "    0.   0.   0.   0.   0.   0.   0.]\n",
            " [  0. -50.   0.  25.   0.   0.   0.   0.   0.   0.   0.   0.   0.   0.\n",
            "    0.   0.   0.   0.   0.   0.   0.]\n",
            " [ 25.   0. -50.   0.  25.   0.   0.   0.   0.   0.   0.   0.   0.   0.\n",
            "    0.   0.   0.   0.   0.   0.   0.]\n",
            " [  0.  25.   0. -50.   0.  25.   0.   0.   0.   0.   0.   0.   0.   0.\n",
            "    0.   0.   0.   0.   0.   0.   0.]\n",
            " [  0.   0.  25.   0. -50.   0.  25.   0.   0.   0.   0.   0.   0.   0.\n",
            "    0.   0.   0.   0.   0.   0.   0.]\n",
            " [  0.   0.   0.  25.   0. -50.   0.  25.   0.   0.   0.   0.   0.   0.\n",
            "    0.   0.   0.   0.   0.   0.   0.]\n",
            " [  0.   0.   0.   0.  25.   0. -50.   0.  25.   0.   0.   0.   0.   0.\n",
            "    0.   0.   0.   0.   0.   0.   0.]\n",
            " [  0.   0.   0.   0.   0.  25.   0. -50.   0.  25.   0.   0.   0.   0.\n",
            "    0.   0.   0.   0.   0.   0.   0.]\n",
            " [  0.   0.   0.   0.   0.   0.  25.   0. -50.   0.  25.   0.   0.   0.\n",
            "    0.   0.   0.   0.   0.   0.   0.]\n",
            " [  0.   0.   0.   0.   0.   0.   0.  25.   0. -50.   0.  25.   0.   0.\n",
            "    0.   0.   0.   0.   0.   0.   0.]\n",
            " [  0.   0.   0.   0.   0.   0.   0.   0.  25.   0. -50.   0.  25.   0.\n",
            "    0.   0.   0.   0.   0.   0.   0.]\n",
            " [  0.   0.   0.   0.   0.   0.   0.   0.   0.  25.   0. -50.   0.  25.\n",
            "    0.   0.   0.   0.   0.   0.   0.]\n",
            " [  0.   0.   0.   0.   0.   0.   0.   0.   0.   0.  25.   0. -50.   0.\n",
            "   25.   0.   0.   0.   0.   0.   0.]\n",
            " [  0.   0.   0.   0.   0.   0.   0.   0.   0.   0.   0.  25.   0. -50.\n",
            "    0.  25.   0.   0.   0.   0.   0.]\n",
            " [  0.   0.   0.   0.   0.   0.   0.   0.   0.   0.   0.   0.  25.   0.\n",
            "  -50.   0.  25.   0.   0.   0.   0.]\n",
            " [  0.   0.   0.   0.   0.   0.   0.   0.   0.   0.   0.   0.   0.  25.\n",
            "    0. -50.   0.  25.   0.   0.   0.]\n",
            " [  0.   0.   0.   0.   0.   0.   0.   0.   0.   0.   0.   0.   0.   0.\n",
            "   25.   0. -50.   0.  25.   0.   0.]\n",
            " [  0.   0.   0.   0.   0.   0.   0.   0.   0.   0.   0.   0.   0.   0.\n",
            "    0.  25.   0. -50.   0.  25.   0.]\n",
            " [  0.   0.   0.   0.   0.   0.   0.   0.   0.   0.   0.   0.   0.   0.\n",
            "    0.   0.  25.   0. -50.   0.  25.]\n",
            " [  0.   0.   0.   0.   0.   0.   0.   0.   0.   0.   0.   0.   0.   0.\n",
            "    0.   0.   0.  25.   0. -50.   0.]\n",
            " [  0.   0.   0.   0.   0.   0.   0.   0.   0.   0.   0.   0.   0.   0.\n",
            "    0.   0.   0.   0.  25.   0. -25.]]\n"
          ],
          "name": "stdout"
        },
        {
          "output_type": "execute_result",
          "data": {
            "text/plain": [
              "<matplotlib.image.AxesImage at 0x7fca8551a850>"
            ]
          },
          "metadata": {
            "tags": []
          },
          "execution_count": 13
        },
        {
          "output_type": "display_data",
          "data": {
            "image/png": "[encoded data removed]",
            "text/plain": [
              "<Figure size 432x288 with 1 Axes>"
            ]
          },
          "metadata": {
            "tags": [],
            "needs_background": "light"
          }
        }
      ]
    },
    {
      "cell_type": "markdown",
      "metadata": {
        "id": "1Dbr7xbKfFBD"
      },
      "source": [
        "Which is different from the operator that we just created directly. How can this be??\n",
        "\n",
        "Do you remember when introducing these derivatives in kinematics, we said that this kind of operator is dispersive. Too dispersive! In fact, although the results look similar (try it!) it is not the same, and smooths the function a bit."
      ]
    },
    {
      "cell_type": "code",
      "metadata": {
        "id": "eIAL7GsafFBE"
      },
      "source": [
        "#compare here the two results, with the operator that we built directly \n",
        "#and with the operator from the product of the two\n",
        "\n",
        "\n",
        "\n"
      ],
      "execution_count": null,
      "outputs": []
    },
    {
      "cell_type": "markdown",
      "metadata": {
        "id": "ztWeGVujfFBF"
      },
      "source": [
        "So, how do we create the correct (best!) operator? The trick is to use the forward and the backward. Which seems a paradox because each one was less correct than the centered one. But the poins is that they were biased, but not dispersive, and the two biases disappear when multypling one with the other! "
      ]
    },
    {
      "cell_type": "markdown",
      "metadata": {
        "id": "oVSRhq0jfFBG"
      },
      "source": [
        "### Exercise 4\n",
        "Create now the operator d2xdt2, by multypling either the forward and the backward or the backward and the forward. Does the result change? And compare how it operates with the best estiamate \n",
        "d2xdt2 = ( x[0:nt-2] - 2*x[1:nt-1] + x[2:nt] ) / dt**2\n"
      ]
    },
    {
      "cell_type": "code",
      "metadata": {
        "colab": {
          "base_uri": "https://localhost:8080/",
          "height": 284
        },
        "id": "uApN-iEmfFBK",
        "outputId": "3f035a31-695a-4ebc-ccac-c46d9467fa62"
      },
      "source": [
        "#here write your solution\n",
        "\n",
        "\n",
        "d2xdt2CombinedOp = dxdtBackwardOp.dot(dxdtForwardOp)\n",
        "d2xdt2Combined2=d2xdt2CombinedOp.dot(x)\n",
        "plt.plot(time,d2xdt2Combined2)\n",
        "\n"
      ],
      "execution_count": null,
      "outputs": [
        {
          "output_type": "execute_result",
          "data": {
            "text/plain": [
              "[<matplotlib.lines.Line2D at 0x7fca8548a890>]"
            ]
          },
          "metadata": {
            "tags": []
          },
          "execution_count": 15
        },
        {
          "output_type": "display_data",
          "data": {
            "image/png": "[encoded data removed]",
            "text/plain": [
              "<Figure size 432x288 with 1 Axes>"
            ]
          },
          "metadata": {
            "tags": [],
            "needs_background": "light"
          }
        }
      ]
    },
    {
      "cell_type": "markdown",
      "metadata": {
        "id": "DzHkUKedfFBL"
      },
      "source": [
        "## Sparse operators\n",
        "\n",
        "Let's address now a last problem, which is actually of minor importance in 1D but fundamental in 2D. Sparse and dense operators. The problem is simply that the matrix above, is almost entire made by zeros. So, we are filling up the memory of our computers of zeros. What a waste of memory! And what a waste of computing time at multypling all these zeros for x or for other zeros (when multypling one operator for another). \n",
        "\n",
        "Computer scientists figured out long time ago that there had to be a better way. They invented therefore sparse matrices. They can be easily studies from scipy or numpy sparse. But quickly said here, sparse matrices are written in the computer not as the list of values, but as the list of non-zero values, as (i,j,value) where i and j are the coordinates of the non-zero value. \n",
        "\n",
        "Of the many sparse arrays that exist in Python, the CSR format (Compressed Sparse Column format) is specially suitable for fast matrix vector products. Since all our matrix come from some combinations of diagonal matrices, we can combine them into a CSR format. Let's see an example for the matrices that we created earlier. "
      ]
    },
    {
      "cell_type": "code",
      "metadata": {
        "id": "3MgUx2eKfFBN"
      },
      "source": [
        "import scipy.sparse as sparse"
      ],
      "execution_count": null,
      "outputs": []
    },
    {
      "cell_type": "code",
      "metadata": {
        "id": "Qniop8c3fFBO",
        "colab": {
          "base_uri": "https://localhost:8080/"
        },
        "outputId": "c6c6ccbe-763f-432a-df56-a5cd5bc7187a"
      },
      "source": [
        "# We start from a diagonal sparse matrix:  \n",
        "a=sparse.dia_matrix((np.ones(nt)*3,0), shape=(nt,nt) ).tocsr()\n",
        "print(a)"
      ],
      "execution_count": null,
      "outputs": [
        {
          "output_type": "stream",
          "text": [
            "  (0, 0)\t3.0\n",
            "  (1, 1)\t3.0\n",
            "  (2, 2)\t3.0\n",
            "  (3, 3)\t3.0\n",
            "  (4, 4)\t3.0\n",
            "  (5, 5)\t3.0\n",
            "  (6, 6)\t3.0\n",
            "  (7, 7)\t3.0\n",
            "  (8, 8)\t3.0\n",
            "  (9, 9)\t3.0\n",
            "  (10, 10)\t3.0\n",
            "  (11, 11)\t3.0\n",
            "  (12, 12)\t3.0\n",
            "  (13, 13)\t3.0\n",
            "  (14, 14)\t3.0\n",
            "  (15, 15)\t3.0\n",
            "  (16, 16)\t3.0\n",
            "  (17, 17)\t3.0\n",
            "  (18, 18)\t3.0\n",
            "  (19, 19)\t3.0\n",
            "  (20, 20)\t3.0\n"
          ],
          "name": "stdout"
        }
      ]
    },
    {
      "cell_type": "code",
      "metadata": {
        "id": "LzGDTHv-fFBO",
        "colab": {
          "base_uri": "https://localhost:8080/"
        },
        "outputId": "4f96e5e4-d570-4c20-8253-468fbe4ee235"
      },
      "source": [
        "# the zero is the offset. Let's play with it a bit:\n",
        "a=sparse.dia_matrix((np.ones(nt)*5,5), shape=(nt,nt) ).tocsr()\n",
        "print(a)"
      ],
      "execution_count": null,
      "outputs": [
        {
          "output_type": "stream",
          "text": [
            "  (0, 5)\t5.0\n",
            "  (1, 6)\t5.0\n",
            "  (2, 7)\t5.0\n",
            "  (3, 8)\t5.0\n",
            "  (4, 9)\t5.0\n",
            "  (5, 10)\t5.0\n",
            "  (6, 11)\t5.0\n",
            "  (7, 12)\t5.0\n",
            "  (8, 13)\t5.0\n",
            "  (9, 14)\t5.0\n",
            "  (10, 15)\t5.0\n",
            "  (11, 16)\t5.0\n",
            "  (12, 17)\t5.0\n",
            "  (13, 18)\t5.0\n",
            "  (14, 19)\t5.0\n",
            "  (15, 20)\t5.0\n"
          ],
          "name": "stdout"
        }
      ]
    },
    {
      "cell_type": "code",
      "metadata": {
        "id": "sNt0CjeIfFBP",
        "colab": {
          "base_uri": "https://localhost:8080/",
          "height": 284
        },
        "outputId": "8381cd45-db0e-466c-a9a6-9f178037a1e7"
      },
      "source": [
        "# you can see that the representation is not the one of before. \n",
        "# what if we want to visualize it as a normal matrix? We can always change into a standard matrix and plot it.\n",
        "a2=a.toarray()\n",
        "plt.imshow(a2)"
      ],
      "execution_count": null,
      "outputs": [
        {
          "output_type": "execute_result",
          "data": {
            "text/plain": [
              "<matplotlib.image.AxesImage at 0x7fca833b4d90>"
            ]
          },
          "metadata": {
            "tags": []
          },
          "execution_count": 20
        },
        {
          "output_type": "display_data",
          "data": {
            "image/png": "[encoded data removed]",
            "text/plain": [
              "<Figure size 432x288 with 1 Axes>"
            ]
          },
          "metadata": {
            "tags": [],
            "needs_background": "light"
          }
        }
      ]
    },
    {
      "cell_type": "code",
      "metadata": {
        "id": "dXY0AdpvfFBQ",
        "colab": {
          "base_uri": "https://localhost:8080/"
        },
        "outputId": "c545dc23-a35e-46a2-8b60-1fb8972b62f9"
      },
      "source": [
        "# products are just the same:\n",
        "y=a.dot(x)\n",
        "y2=a2.dot(x)\n",
        "print(y)\n",
        "print(y2)"
      ],
      "execution_count": null,
      "outputs": [
        {
          "output_type": "stream",
          "text": [
            "[ 6.12323400e-16 -2.93892626e+00 -4.75528258e+00 -4.75528258e+00\n",
            " -2.93892626e+00 -1.22464680e-15  2.93892626e+00  4.75528258e+00\n",
            "  4.75528258e+00  2.93892626e+00  1.83697020e-15 -2.93892626e+00\n",
            " -4.75528258e+00 -4.75528258e+00 -2.93892626e+00 -2.44929360e-15\n",
            "  0.00000000e+00  0.00000000e+00  0.00000000e+00  0.00000000e+00\n",
            "  0.00000000e+00]\n",
            "[ 6.12323400e-16 -2.93892626e+00 -4.75528258e+00 -4.75528258e+00\n",
            " -2.93892626e+00 -1.22464680e-15  2.93892626e+00  4.75528258e+00\n",
            "  4.75528258e+00  2.93892626e+00  1.83697020e-15 -2.93892626e+00\n",
            " -4.75528258e+00 -4.75528258e+00 -2.93892626e+00 -2.44929360e-15\n",
            "  0.00000000e+00  0.00000000e+00  0.00000000e+00  0.00000000e+00\n",
            "  0.00000000e+00]\n"
          ],
          "name": "stdout"
        }
      ]
    },
    {
      "cell_type": "markdown",
      "metadata": {
        "id": "IFJf0IVefFBQ"
      },
      "source": [
        "### Exercise 5\n",
        "\n",
        "Create now the operators dxdtcentered and dxdt2 using sparse matrices. You can also try to use the matrix product (using backward and forward) to build the second derivative. Check that the solution is correct either by comparing the matrix with .toarray or mulutplying it for a test x vector."
      ]
    },
    {
      "cell_type": "code",
      "metadata": {
        "id": "QqARh8tGfFBR",
        "colab": {
          "base_uri": "https://localhost:8080/",
          "height": 1000
        },
        "outputId": "2fc751a1-6d87-4dbe-c6e8-8a8e35fdeb6c"
      },
      "source": [
        "# write here your solution\n",
        "dxdtCenteredOp = -1/2/dt*np.diag(np.ones(nt-1),-1) + 1/2/dt*np.diag(np.ones(nt-1),1)\n",
        "plt.imshow(dxdtCenteredOp);plt.colorbar();plt.show()\n",
        "dxdtCenteredOpSparsed=sparse.dia_matrix((dxdtCenteredOp) ).tocsr()\n",
        "# print(dxdtCenteredOpSparsed)\n",
        "dxdtCenterSparsed=dxdtCenteredOpSparsed.dot(x)\n",
        "plt.imshow(dxdtCenteredOpSparsed.toarray());plt.colorbar();plt.show()\n",
        "\n",
        "plt.figure()\n",
        "plt.plot(dxdtCenterSparsed)\n",
        "plt.show()\n",
        "\n",
        "# previous calculation\n",
        "dxdtCenteredOp = -1/2/dt*np.diag(np.ones(nt-1),-1) + 1/2/dt*np.diag(np.ones(nt-1),1)\n",
        "dxdtCentered2=dxdtCenteredOp.dot(x)\n",
        "plt.figure()\n",
        "plt.plot(dxdtCentered2,'x');\n",
        "\n"
      ],
      "execution_count": null,
      "outputs": [
        {
          "output_type": "display_data",
          "data": {
            "image/png": "[encoded data removed]",
            "text/plain": [
              "<Figure size 432x288 with 2 Axes>"
            ]
          },
          "metadata": {
            "tags": [],
            "needs_background": "light"
          }
        },
        {
          "output_type": "display_data",
          "data": {
            "image/png": "[encoded data removed]",
            "text/plain": [
              "<Figure size 432x288 with 2 Axes>"
            ]
          },
          "metadata": {
            "tags": [],
            "needs_background": "light"
          }
        },
        {
          "output_type": "display_data",
          "data": {
            "image/png": "[encoded data removed]",
            "text/plain": [
              "<Figure size 432x288 with 1 Axes>"
            ]
          },
          "metadata": {
            "tags": [],
            "needs_background": "light"
          }
        },
        {
          "output_type": "display_data",
          "data": {
            "image/png": "[encoded data removed]",
            "text/plain": [
              "<Figure size 432x288 with 1 Axes>"
            ]
          },
          "metadata": {
            "tags": [],
            "needs_background": "light"
          }
        }
      ]
    },
    {
      "cell_type": "markdown",
      "metadata": {
        "id": "CncGLJ9vfFBR"
      },
      "source": [
        "### Exercise 6\n",
        "\n",
        "Compare the speed (using %timeit) to multiply one matrix operator and one vector, and two matrix operators, testing size of x varying among 10, 100, 1000, 10000. Plot the result in log10 to see the linear trend."
      ]
    },
    {
      "cell_type": "code",
      "metadata": {
        "id": "Tu2ZbvqYfFBS",
        "colab": {
          "base_uri": "https://localhost:8080/"
        },
        "outputId": "47500a10-f731-4a9e-8183-a71ac1d04364"
      },
      "source": [
        "# write here your solution\n",
        "tmax = 2.0 #ending time in seconds\n",
        "tmin = 0.0 #starting time \n",
        "intervals = 2 #number of divisins on time interval\n",
        "dt =(tmax-tmin) / intervals #time stepping\n",
        "nt = intervals + 1\n",
        "time = np.arange(nt) * dt\n",
        "\n",
        "x=np.zeros(nt) #setting Initial position to zero\n",
        "x[0:nt]=np.sin(2*np.pi*time[0:nt])\n",
        "\n",
        "dxdtCenteredOp = -1/2/dt*np.diag(np.ones(nt-1),-1) + 1/2/dt*np.diag(np.ones(nt-1),1)\n",
        "dxdtCenteredOpSparsed=sparse.dia_matrix((dxdtCenteredOp) ).tocsr()\n",
        "\n",
        "%timeit dxdtCentered2=dxdtCenteredOp.dot(x)\n",
        "%timeit dxdtCenterSparsed=dxdtCenteredOpSparsed.dot(x)\n",
        "# non sparsed is faster but lets up the intervals to 2000.\n",
        "\n",
        "tmax = 2.0 #ending time in seconds\n",
        "tmin = 0.0 #starting time \n",
        "intervals = 2000 #number of divisins on time interval\n",
        "dt =(tmax-tmin) / intervals #time stepping\n",
        "nt = intervals + 1\n",
        "time = np.arange(nt) * dt\n",
        "\n",
        "x=np.zeros(nt) #setting Initial position to zero\n",
        "x[0:nt]=np.sin(2*np.pi*time[0:nt])\n",
        "\n",
        "dxdtCenteredOp = -1/2/dt*np.diag(np.ones(nt-1),-1) + 1/2/dt*np.diag(np.ones(nt-1),1)\n",
        "dxdtCenteredOpSparsed=sparse.dia_matrix((dxdtCenteredOp) ).tocsr()\n",
        "\n",
        "%timeit dxdtCentered2=dxdtCenteredOp.dot(x)\n",
        "%timeit dxdtCenterSparsed=dxdtCenteredOpSparsed.dot(x)\n",
        "# with 2000 intervals the time took 2 milliseconds per loop while the sparse maintained 10 micro seconds, now the sparsed way is faster."
      ],
      "execution_count": null,
      "outputs": [
        {
          "output_type": "stream",
          "text": [
            "The slowest run took 28.20 times longer than the fastest. This could mean that an intermediate result is being cached.\n",
            "1000000 loops, best of 5: 799 ns per loop\n",
            "The slowest run took 22.07 times longer than the fastest. This could mean that an intermediate result is being cached.\n",
            "100000 loops, best of 5: 4.57 µs per loop\n",
            "1000 loops, best of 5: 1.5 ms per loop\n",
            "The slowest run took 6.88 times longer than the fastest. This could mean that an intermediate result is being cached.\n",
            "100000 loops, best of 5: 11 µs per loop\n"
          ],
          "name": "stdout"
        }
      ]
    },
    {
      "cell_type": "code",
      "metadata": {
        "id": "J7GhpPQ4Dxfm"
      },
      "source": [
        ""
      ],
      "execution_count": null,
      "outputs": []
    }
  ]
}